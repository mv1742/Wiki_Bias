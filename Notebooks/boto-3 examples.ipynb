{
 "cells": [
  {
   "cell_type": "markdown",
   "metadata": {},
   "source": [
    "# Configure boto 3"
   ]
  },
  {
   "cell_type": "markdown",
   "metadata": {},
   "source": [
    "## Install packages"
   ]
  },
  {
   "cell_type": "code",
   "execution_count": 13,
   "metadata": {},
   "outputs": [
    {
     "name": "stdout",
     "output_type": "stream",
     "text": [
      "Requirement already satisfied: boto3 in /home/alex/anaconda3/lib/python3.7/site-packages (1.9.228)\n",
      "Requirement already satisfied: s3transfer<0.3.0,>=0.2.0 in /home/alex/anaconda3/lib/python3.7/site-packages (from boto3) (0.2.1)\n",
      "Collecting botocore<1.13.0,>=1.12.228 (from boto3)\n",
      "  Using cached https://files.pythonhosted.org/packages/f7/5c/b66a2241e5030c491f982c6b9646c008559aa7cd7f4448f643e8ed9f15e5/botocore-1.12.228-py2.py3-none-any.whl\n",
      "Requirement already satisfied: jmespath<1.0.0,>=0.7.1 in /home/alex/anaconda3/lib/python3.7/site-packages (from boto3) (0.9.4)\n",
      "Requirement already satisfied: docutils<0.16,>=0.10 in /home/alex/anaconda3/lib/python3.7/site-packages (from botocore<1.13.0,>=1.12.228->boto3) (0.14)\n",
      "Requirement already satisfied: python-dateutil<3.0.0,>=2.1; python_version >= \"2.7\" in /home/alex/anaconda3/lib/python3.7/site-packages (from botocore<1.13.0,>=1.12.228->boto3) (2.8.0)\n",
      "Requirement already satisfied: urllib3<1.26,>=1.20; python_version >= \"3.4\" in /home/alex/anaconda3/lib/python3.7/site-packages (from botocore<1.13.0,>=1.12.228->boto3) (1.24.1)\n",
      "Requirement already satisfied: six>=1.5 in /home/alex/anaconda3/lib/python3.7/site-packages (from python-dateutil<3.0.0,>=2.1; python_version >= \"2.7\"->botocore<1.13.0,>=1.12.228->boto3) (1.12.0)\n",
      "\u001b[31mERROR: awscli 1.16.235 has requirement botocore==1.12.225, but you'll have botocore 1.12.228 which is incompatible.\u001b[0m\n",
      "Installing collected packages: botocore\n",
      "  Found existing installation: botocore 1.12.225\n",
      "    Uninstalling botocore-1.12.225:\n",
      "      Successfully uninstalled botocore-1.12.225\n",
      "Successfully installed botocore-1.12.228\n",
      "Requirement already satisfied: awscli in /home/alex/anaconda3/lib/python3.7/site-packages (1.16.235)\n",
      "Requirement already satisfied: s3transfer<0.3.0,>=0.2.0 in /home/alex/anaconda3/lib/python3.7/site-packages (from awscli) (0.2.1)\n",
      "Requirement already satisfied: rsa<=3.5.0,>=3.1.2 in /home/alex/anaconda3/lib/python3.7/site-packages (from awscli) (3.4.2)\n",
      "Requirement already satisfied: docutils<0.16,>=0.10 in /home/alex/anaconda3/lib/python3.7/site-packages (from awscli) (0.14)\n",
      "Requirement already satisfied: colorama<=0.3.9,>=0.2.5 in /home/alex/anaconda3/lib/python3.7/site-packages (from awscli) (0.3.9)\n",
      "Requirement already satisfied: PyYAML<=5.2,>=3.10; python_version != \"2.6\" in /home/alex/anaconda3/lib/python3.7/site-packages (from awscli) (5.1)\n",
      "Collecting botocore==1.12.225 (from awscli)\n",
      "  Using cached https://files.pythonhosted.org/packages/19/28/8f0051b77f5586ab271a176cf50692dc338cf6aa922ed2dbf878deabf24e/botocore-1.12.225-py2.py3-none-any.whl\n",
      "Requirement already satisfied: pyasn1>=0.1.3 in /home/alex/anaconda3/lib/python3.7/site-packages (from rsa<=3.5.0,>=3.1.2->awscli) (0.4.5)\n",
      "Requirement already satisfied: jmespath<1.0.0,>=0.7.1 in /home/alex/anaconda3/lib/python3.7/site-packages (from botocore==1.12.225->awscli) (0.9.4)\n",
      "Requirement already satisfied: urllib3<1.26,>=1.20; python_version >= \"3.4\" in /home/alex/anaconda3/lib/python3.7/site-packages (from botocore==1.12.225->awscli) (1.24.1)\n",
      "Requirement already satisfied: python-dateutil<3.0.0,>=2.1; python_version >= \"2.7\" in /home/alex/anaconda3/lib/python3.7/site-packages (from botocore==1.12.225->awscli) (2.8.0)\n",
      "Requirement already satisfied: six>=1.5 in /home/alex/anaconda3/lib/python3.7/site-packages (from python-dateutil<3.0.0,>=2.1; python_version >= \"2.7\"->botocore==1.12.225->awscli) (1.12.0)\n",
      "\u001b[31mERROR: boto3 1.9.228 has requirement botocore<1.13.0,>=1.12.228, but you'll have botocore 1.12.225 which is incompatible.\u001b[0m\n",
      "Installing collected packages: botocore\n",
      "  Found existing installation: botocore 1.12.228\n",
      "    Uninstalling botocore-1.12.228:\n",
      "      Successfully uninstalled botocore-1.12.228\n",
      "Successfully installed botocore-1.12.225\n",
      "Requirement already satisfied: termcolor in /home/alex/anaconda3/lib/python3.7/site-packages (1.1.0)\n"
     ]
    }
   ],
   "source": [
    "# Execute this cell to install the necessary packages\n",
    "!pip install boto3\n",
    "!pip install awscli\n",
    "!pip install termcolor"
   ]
  },
  {
   "cell_type": "markdown",
   "metadata": {},
   "source": [
    "## Configuration with your AWS account"
   ]
  },
  {
   "cell_type": "markdown",
   "metadata": {},
   "source": [
    "Read the following:\n",
    "\n",
    "https://boto3.amazonaws.com/v1/documentation/api/latest/guide/quickstart.html\n",
    "\n",
    "You need to link boto 3 to you account by following the instructions in the \"Configuration\" section"
   ]
  },
  {
   "cell_type": "code",
   "execution_count": 9,
   "metadata": {},
   "outputs": [],
   "source": [
    "import boto3"
   ]
  },
  {
   "cell_type": "markdown",
   "metadata": {},
   "source": [
    "# Display your EC2 and S3 buckets"
   ]
  },
  {
   "cell_type": "markdown",
   "metadata": {},
   "source": [
    "## Display your buckets in S3"
   ]
  },
  {
   "cell_type": "code",
   "execution_count": 10,
   "metadata": {},
   "outputs": [
    {
     "name": "stdout",
     "output_type": "stream",
     "text": [
      "sec-data-1\n"
     ]
    }
   ],
   "source": [
    "s3 = boto3.resource('s3')\n",
    "\n",
    "# Print out bucket names\n",
    "for bucket in s3.buckets.all():\n",
    "    print(bucket.name)"
   ]
  },
  {
   "cell_type": "markdown",
   "metadata": {},
   "source": [
    "## Display all EC2 instances on your account & their info"
   ]
  },
  {
   "cell_type": "code",
   "execution_count": 11,
   "metadata": {},
   "outputs": [],
   "source": [
    "client = boto3.client('ec2')\n",
    "ec2 = boto3.resource('ec2')"
   ]
  },
  {
   "cell_type": "code",
   "execution_count": 12,
   "metadata": {},
   "outputs": [
    {
     "name": "stdout",
     "output_type": "stream",
     "text": [
      "Id: \u001b[36mi-0429c49bf51a09814\u001b[0m\tState: \u001b[32mstopped\u001b[0m\tLaunched: \u001b[36m2019-09-10 19:37:38+00:00\u001b[0m\tRoot Device Name: \u001b[36m/dev/sda1\u001b[0m\n",
      "\tArch: \u001b[36mx86_64\u001b[0m\tHypervisor: \u001b[36mxen\u001b[0m\n",
      "\tPriv. IP: \u001b[31m10.0.0.7\u001b[0m\tPub. IP: \u001b[32m3.228.96.158\u001b[0m\n",
      "\tPriv. DNS: \u001b[31mip-10-0-0-7.ec2.internal\u001b[0m\tPub. DNS: \u001b[32mec2-3-228-96-158.compute-1.amazonaws.com\u001b[0m\n",
      "\tSubnet: \u001b[36mec2.Subnet(id='subnet-0a575ed6d34092f45')\u001b[0m\tSubnet Id: \u001b[36msubnet-0a575ed6d34092f45\u001b[0m\n",
      "\tKernel: \u001b[36mNone\u001b[0m\tInstance Type: \u001b[36mm4.large\u001b[0m\n",
      "\tRAM Disk Id: \u001b[36mNone\u001b[0m\tAMI Id: \u001b[36mami-3508e54f\u001b[0m\tPlatform: \u001b[36mNone\u001b[0m\t EBS Optimized: \u001b[36mFalse\u001b[0m\n",
      "\tBlock Device Mappings:\n",
      "\t- [1] Device Name: \u001b[36m/dev/sda1\u001b[0m\tVol Id: \u001b[36mvol-04f3003da9c633a92\u001b[0m\tStatus: \u001b[32mattached\u001b[0m\tDeleteOnTermination: \u001b[36mTrue\u001b[0m\tAttachTime: \u001b[36m2019-09-10 19:37:39+00:00\u001b[0m\n",
      "\tTags:\n",
      "\t- [1] Key: \u001b[36mOwner\u001b[0m\tValue: \u001b[36malex\u001b[0m\n",
      "\t- [2] Key: \u001b[36mRole\u001b[0m\tValue: \u001b[36mmaster\u001b[0m\n",
      "\t- [3] Key: \u001b[36mName\u001b[0m\tValue: \u001b[36mspark-cluster\u001b[0m\n",
      "\tProduct codes:\n",
      "Console Output:\n",
      "--------------------\n",
      "Id: \u001b[36mi-0beaf3e52f81c930f\u001b[0m\tState: \u001b[32mstopped\u001b[0m\tLaunched: \u001b[36m2019-09-12 13:07:52+00:00\u001b[0m\tRoot Device Name: \u001b[36m/dev/sda1\u001b[0m\n",
      "\tArch: \u001b[36mx86_64\u001b[0m\tHypervisor: \u001b[36mxen\u001b[0m\n",
      "\tPriv. IP: \u001b[31m10.0.0.5\u001b[0m\tPub. IP: \u001b[32m34.233.50.68\u001b[0m\n",
      "\tPriv. DNS: \u001b[31mip-10-0-0-5.ec2.internal\u001b[0m\tPub. DNS: \u001b[32mec2-34-233-50-68.compute-1.amazonaws.com\u001b[0m\n",
      "\tSubnet: \u001b[36mec2.Subnet(id='subnet-0a575ed6d34092f45')\u001b[0m\tSubnet Id: \u001b[36msubnet-0a575ed6d34092f45\u001b[0m\n",
      "\tKernel: \u001b[36mNone\u001b[0m\tInstance Type: \u001b[36mm4.large\u001b[0m\n",
      "\tRAM Disk Id: \u001b[36mNone\u001b[0m\tAMI Id: \u001b[36mami-3508e54f\u001b[0m\tPlatform: \u001b[36mNone\u001b[0m\t EBS Optimized: \u001b[36mFalse\u001b[0m\n",
      "\tBlock Device Mappings:\n",
      "\t- [1] Device Name: \u001b[36m/dev/sda1\u001b[0m\tVol Id: \u001b[36mvol-0d9ccc4603a3a669b\u001b[0m\tStatus: \u001b[32mattached\u001b[0m\tDeleteOnTermination: \u001b[36mTrue\u001b[0m\tAttachTime: \u001b[36m2019-09-10 19:41:48+00:00\u001b[0m\n",
      "\tTags:\n",
      "\t- [1] Key: \u001b[36mOwner\u001b[0m\tValue: \u001b[36malex\u001b[0m\n",
      "\t- [2] Key: \u001b[36mRole\u001b[0m\tValue: \u001b[36mworker\u001b[0m\n",
      "\t- [3] Key: \u001b[36mName\u001b[0m\tValue: \u001b[36mspark-cluster\u001b[0m\n",
      "\tProduct codes:\n",
      "Console Output:\n",
      "--------------------\n",
      "Id: \u001b[36mi-04f389ee3ff586b4b\u001b[0m\tState: \u001b[32mstopped\u001b[0m\tLaunched: \u001b[36m2019-09-10 19:41:47+00:00\u001b[0m\tRoot Device Name: \u001b[36m/dev/sda1\u001b[0m\n",
      "\tArch: \u001b[36mx86_64\u001b[0m\tHypervisor: \u001b[36mxen\u001b[0m\n",
      "\tPriv. IP: \u001b[31m10.0.0.14\u001b[0m\tPub. IP: \u001b[32m35.174.47.93\u001b[0m\n",
      "\tPriv. DNS: \u001b[31mip-10-0-0-14.ec2.internal\u001b[0m\tPub. DNS: \u001b[32mec2-35-174-47-93.compute-1.amazonaws.com\u001b[0m\n",
      "\tSubnet: \u001b[36mec2.Subnet(id='subnet-0a575ed6d34092f45')\u001b[0m\tSubnet Id: \u001b[36msubnet-0a575ed6d34092f45\u001b[0m\n",
      "\tKernel: \u001b[36mNone\u001b[0m\tInstance Type: \u001b[36mm4.large\u001b[0m\n",
      "\tRAM Disk Id: \u001b[36mNone\u001b[0m\tAMI Id: \u001b[36mami-3508e54f\u001b[0m\tPlatform: \u001b[36mNone\u001b[0m\t EBS Optimized: \u001b[36mFalse\u001b[0m\n",
      "\tBlock Device Mappings:\n",
      "\t- [1] Device Name: \u001b[36m/dev/sda1\u001b[0m\tVol Id: \u001b[36mvol-0484939598c99690c\u001b[0m\tStatus: \u001b[32mattached\u001b[0m\tDeleteOnTermination: \u001b[36mTrue\u001b[0m\tAttachTime: \u001b[36m2019-09-10 19:41:48+00:00\u001b[0m\n",
      "\tTags:\n",
      "\t- [1] Key: \u001b[36mOwner\u001b[0m\tValue: \u001b[36malex\u001b[0m\n",
      "\t- [2] Key: \u001b[36mRole\u001b[0m\tValue: \u001b[36mworker\u001b[0m\n",
      "\t- [3] Key: \u001b[36mName\u001b[0m\tValue: \u001b[36mspark-cluster\u001b[0m\n",
      "\tProduct codes:\n",
      "Console Output:\n",
      "--------------------\n",
      "Id: \u001b[36mi-07802c37357c30b50\u001b[0m\tState: \u001b[32mstopped\u001b[0m\tLaunched: \u001b[36m2019-09-10 19:41:47+00:00\u001b[0m\tRoot Device Name: \u001b[36m/dev/sda1\u001b[0m\n",
      "\tArch: \u001b[36mx86_64\u001b[0m\tHypervisor: \u001b[36mxen\u001b[0m\n",
      "\tPriv. IP: \u001b[31m10.0.0.11\u001b[0m\tPub. IP: \u001b[32m3.227.153.84\u001b[0m\n",
      "\tPriv. DNS: \u001b[31mip-10-0-0-11.ec2.internal\u001b[0m\tPub. DNS: \u001b[32mec2-3-227-153-84.compute-1.amazonaws.com\u001b[0m\n",
      "\tSubnet: \u001b[36mec2.Subnet(id='subnet-0a575ed6d34092f45')\u001b[0m\tSubnet Id: \u001b[36msubnet-0a575ed6d34092f45\u001b[0m\n",
      "\tKernel: \u001b[36mNone\u001b[0m\tInstance Type: \u001b[36mm4.large\u001b[0m\n",
      "\tRAM Disk Id: \u001b[36mNone\u001b[0m\tAMI Id: \u001b[36mami-3508e54f\u001b[0m\tPlatform: \u001b[36mNone\u001b[0m\t EBS Optimized: \u001b[36mFalse\u001b[0m\n",
      "\tBlock Device Mappings:\n",
      "\t- [1] Device Name: \u001b[36m/dev/sda1\u001b[0m\tVol Id: \u001b[36mvol-03a715f19d08bb8ed\u001b[0m\tStatus: \u001b[32mattached\u001b[0m\tDeleteOnTermination: \u001b[36mTrue\u001b[0m\tAttachTime: \u001b[36m2019-09-10 19:41:48+00:00\u001b[0m\n",
      "\tTags:\n",
      "\t- [1] Key: \u001b[36mRole\u001b[0m\tValue: \u001b[36mworker\u001b[0m\n",
      "\t- [2] Key: \u001b[36mOwner\u001b[0m\tValue: \u001b[36malex\u001b[0m\n",
      "\t- [3] Key: \u001b[36mName\u001b[0m\tValue: \u001b[36mspark-cluster\u001b[0m\n",
      "\tProduct codes:\n",
      "Console Output:\n",
      "--------------------\n",
      "Id: \u001b[36mi-0f4876d2f7ed1749d\u001b[0m\tState: \u001b[32mstopped\u001b[0m\tLaunched: \u001b[36m2019-09-13 00:59:30+00:00\u001b[0m\tRoot Device Name: \u001b[36m/dev/sda1\u001b[0m\n",
      "\tArch: \u001b[36mx86_64\u001b[0m\tHypervisor: \u001b[36mxen\u001b[0m\n",
      "\tPriv. IP: \u001b[31m10.0.0.12\u001b[0m\tPub. IP: \u001b[32mNone\u001b[0m\n",
      "\tPriv. DNS: \u001b[31mip-10-0-0-12.ec2.internal\u001b[0m\tPub. DNS: \u001b[32m\u001b[0m\n",
      "\tSubnet: \u001b[36mec2.Subnet(id='subnet-0a575ed6d34092f45')\u001b[0m\tSubnet Id: \u001b[36msubnet-0a575ed6d34092f45\u001b[0m\n",
      "\tKernel: \u001b[36mNone\u001b[0m\tInstance Type: \u001b[36mt2.micro\u001b[0m\n",
      "\tRAM Disk Id: \u001b[36mNone\u001b[0m\tAMI Id: \u001b[36mami-001c36f69cd637089\u001b[0m\tPlatform: \u001b[36mNone\u001b[0m\t EBS Optimized: \u001b[36mFalse\u001b[0m\n",
      "\tBlock Device Mappings:\n",
      "\t- [1] Device Name: \u001b[36m/dev/sda1\u001b[0m\tVol Id: \u001b[36mvol-0c0de38f5e2dc1df0\u001b[0m\tStatus: \u001b[32mattached\u001b[0m\tDeleteOnTermination: \u001b[36mTrue\u001b[0m\tAttachTime: \u001b[36m2019-09-13 00:24:19+00:00\u001b[0m\n",
      "\tTags:\n",
      "\t- [1] Key: \u001b[36mName\u001b[0m\tValue: \u001b[36msec_downloader\u001b[0m\n",
      "\tProduct codes:\n",
      "Console Output:\n",
      "--------------------\n",
      "Id: \u001b[36mi-0ca76c5c94c944095\u001b[0m\tState: \u001b[32mstopped\u001b[0m\tLaunched: \u001b[36m2019-09-13 00:59:30+00:00\u001b[0m\tRoot Device Name: \u001b[36m/dev/sda1\u001b[0m\n",
      "\tArch: \u001b[36mx86_64\u001b[0m\tHypervisor: \u001b[36mxen\u001b[0m\n",
      "\tPriv. IP: \u001b[31m10.0.0.10\u001b[0m\tPub. IP: \u001b[32mNone\u001b[0m\n",
      "\tPriv. DNS: \u001b[31mip-10-0-0-10.ec2.internal\u001b[0m\tPub. DNS: \u001b[32m\u001b[0m\n",
      "\tSubnet: \u001b[36mec2.Subnet(id='subnet-0a575ed6d34092f45')\u001b[0m\tSubnet Id: \u001b[36msubnet-0a575ed6d34092f45\u001b[0m\n",
      "\tKernel: \u001b[36mNone\u001b[0m\tInstance Type: \u001b[36mt2.micro\u001b[0m\n",
      "\tRAM Disk Id: \u001b[36mNone\u001b[0m\tAMI Id: \u001b[36mami-001c36f69cd637089\u001b[0m\tPlatform: \u001b[36mNone\u001b[0m\t EBS Optimized: \u001b[36mFalse\u001b[0m\n",
      "\tBlock Device Mappings:\n",
      "\t- [1] Device Name: \u001b[36m/dev/sda1\u001b[0m\tVol Id: \u001b[36mvol-045ec89d9308ec07d\u001b[0m\tStatus: \u001b[32mattached\u001b[0m\tDeleteOnTermination: \u001b[36mTrue\u001b[0m\tAttachTime: \u001b[36m2019-09-13 00:24:19+00:00\u001b[0m\n",
      "\tTags:\n",
      "\t- [1] Key: \u001b[36mName\u001b[0m\tValue: \u001b[36msec_downloader\u001b[0m\n",
      "\tProduct codes:\n",
      "Console Output:\n",
      "--------------------\n"
     ]
    }
   ],
   "source": [
    "from termcolor import colored\n",
    "\n",
    "ec2 = boto3.resource('ec2')\n",
    "\n",
    "for i in ec2.instances.all():\n",
    "\n",
    "    print(\"Id: {0}\\tState: {1}\\tLaunched: {2}\\tRoot Device Name: {3}\".format(\n",
    "        colored(i.id, 'cyan'),\n",
    "        colored(i.state['Name'], 'green'),\n",
    "        colored(i.launch_time, 'cyan'),\n",
    "        colored(i.root_device_name, 'cyan')\n",
    "    ))\n",
    "\n",
    "    print(\"\\tArch: {0}\\tHypervisor: {1}\".format(\n",
    "        colored(i.architecture, 'cyan'),\n",
    "        colored(i.hypervisor, 'cyan')\n",
    "    ))\n",
    "\n",
    "    print(\"\\tPriv. IP: {0}\\tPub. IP: {1}\".format(\n",
    "        colored(i.private_ip_address, 'red'),\n",
    "        colored(i.public_ip_address, 'green')\n",
    "    ))\n",
    "\n",
    "    print(\"\\tPriv. DNS: {0}\\tPub. DNS: {1}\".format(\n",
    "        colored(i.private_dns_name, 'red'),\n",
    "        colored(i.public_dns_name, 'green')\n",
    "    ))\n",
    "\n",
    "    print(\"\\tSubnet: {0}\\tSubnet Id: {1}\".format(\n",
    "        colored(i.subnet, 'cyan'),\n",
    "        colored(i.subnet_id, 'cyan')\n",
    "    ))\n",
    "\n",
    "    print(\"\\tKernel: {0}\\tInstance Type: {1}\".format(\n",
    "        colored(i.kernel_id, 'cyan'),\n",
    "        colored(i.instance_type, 'cyan')\n",
    "    ))\n",
    "\n",
    "    print(\"\\tRAM Disk Id: {0}\\tAMI Id: {1}\\tPlatform: {2}\\t EBS Optimized: {3}\".format(\n",
    "        colored(i.ramdisk_id, 'cyan'),\n",
    "        colored(i.image_id, 'cyan'),\n",
    "        colored(i.platform, 'cyan'),\n",
    "        colored(i.ebs_optimized, 'cyan')\n",
    "    ))\n",
    "\n",
    "    print(\"\\tBlock Device Mappings:\")\n",
    "    for idx, dev in enumerate(i.block_device_mappings, start=1):\n",
    "        print(\"\\t- [{0}] Device Name: {1}\\tVol Id: {2}\\tStatus: {3}\\tDeleteOnTermination: {4}\\tAttachTime: {5}\".format(\n",
    "            idx,\n",
    "            colored(dev['DeviceName'], 'cyan'),\n",
    "            colored(dev['Ebs']['VolumeId'], 'cyan'),\n",
    "            colored(dev['Ebs']['Status'], 'green'),\n",
    "            colored(dev['Ebs']['DeleteOnTermination'], 'cyan'),\n",
    "            colored(dev['Ebs']['AttachTime'], 'cyan')\n",
    "        ))\n",
    "\n",
    "    if i.tags:\n",
    "        print(\"\\tTags:\")\n",
    "        for idx, tag in enumerate(i.tags, start=1):\n",
    "            print(\"\\t- [{0}] Key: {1}\\tValue: {2}\".format(\n",
    "                idx,\n",
    "                colored(tag['Key'], 'cyan'),\n",
    "                colored(tag['Value'], 'cyan')\n",
    "            ))\n",
    "\n",
    "    print(\"\\tProduct codes:\")\n",
    "    for idx, details in enumerate(i.product_codes, start=1):\n",
    "        print(\"\\t- [{0}] Id: {1}\\tType: {2}\".format(\n",
    "            idx,\n",
    "            colored(details['ProductCodeId'], 'cyan'),\n",
    "            colored(details['ProductCodeType'], 'cyan')\n",
    "        ))\n",
    "\n",
    "    print(\"Console Output:\")\n",
    "    # Commented out because this creates a lot of clutter..\n",
    "    # print(i.console_output()['Output'])\n",
    "\n",
    "    print(\"--------------------\")"
   ]
  },
  {
   "cell_type": "code",
   "execution_count": null,
   "metadata": {},
   "outputs": [],
   "source": []
  },
  {
   "cell_type": "code",
   "execution_count": null,
   "metadata": {},
   "outputs": [],
   "source": []
  }
 ],
 "metadata": {
  "kernelspec": {
   "display_name": "Python 3",
   "language": "python",
   "name": "python3"
  },
  "language_info": {
   "codemirror_mode": {
    "name": "ipython",
    "version": 3
   },
   "file_extension": ".py",
   "mimetype": "text/x-python",
   "name": "python",
   "nbconvert_exporter": "python",
   "pygments_lexer": "ipython3",
   "version": "3.7.3"
  }
 },
 "nbformat": 4,
 "nbformat_minor": 2
}
